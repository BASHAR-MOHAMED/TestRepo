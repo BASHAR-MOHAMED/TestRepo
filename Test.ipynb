{
  "metadata": {
    "kernelspec": {
      "name": "xpython",
      "display_name": "Python 3.13 (XPython)",
      "language": "python"
    },
    "language_info": {
      "file_extension": ".py",
      "mimetype": "text/x-python",
      "name": "python",
      "version": "3.13.1"
    }
  },
  "nbformat_minor": 5,
  "nbformat": 4,
  "cells": [
    {
      "id": "14703eaa-917a-4377-be70-e48e201a5f0f",
      "cell_type": "markdown",
      "source": "# Data Science Tools and Ecosystem",
      "metadata": {}
    },
    {
      "id": "ef5bedc7-f8d7-4b2f-8d68-84ee6c53fde9",
      "cell_type": "markdown",
      "source": "In this notebook, Data Science Tools and Ecosystem are summarized.",
      "metadata": {}
    },
    {
      "id": "a04900c5-8752-4829-8941-3602dc68f53e",
      "cell_type": "markdown",
      "source": "**Objectives:**\n- Explore common programming languages used in data science\n- Review essential libraries in the data science ecosystem\n- Identify development tools used in data science\n- Understand how to perform basic arithmetic operations in Python\n- Learn to convert units such as minutes to hours using Python",
      "metadata": {}
    },
    {
      "id": "7a423e16-3431-42b5-a0d0-ebe7b09c3f52",
      "cell_type": "markdown",
      "source": "Some of the common languages used by data scientists are:\n\n1. **Python** - The most common language in data science due to its rich ecosystem of libraries\n2. **R** - A language specialized for statistics and graphical analysis\n3. **SQL** - For dealing with databases and extracting information\n4. **Julia** - A high-performance language for scientific computing\n5. **Scala** - For dealing with big data using Apache Spark",
      "metadata": {}
    },
    {
      "id": "ec649cff-1a57-432f-81fa-274dbb14938f",
      "cell_type": "markdown",
      "source": " Some of the common libraries used by data scientists include:\n\n1. **Pandas** - For processing and analyzing structured data\n2. **NumPy** - For numerical computations and handling multi-dimensional arrays\n3. **Scikit-learn** - For machine learning algorithms and data mining\n4. **Matplotlib** - For creating charts and visualizations\n5. **TensorFlow** - For deep learning and neural networks\n6. **Seaborn** - For creating attractive statistical graphics",
      "metadata": {}
    },
    {
      "id": "624d3e65-4ae6-412c-a265-1f1c021c931d",
      "cell_type": "markdown",
      "source": "| Data Science Tools |\n|-------------------|\n| Jupyter Notebook  |\n| VS Code           |\n| RStudio           |",
      "metadata": {}
    },
    {
      "id": "ee109f8e-09a2-4adb-8f9e-a70924e4ff2e",
      "cell_type": "markdown",
      "source": "### Below are some examples of evaluating arithmetic expressions in Python.\n\n- Addition  print(5 + 3) \n- Subtraction  print(10 - 4) \n- Modulus  print(17 % 5)\n",
      "metadata": {}
    },
    {
      "id": "1521baf5-9fa0-4b04-a7d2-8943721895c4",
      "cell_type": "code",
      "source": "# A simple arithmetic expression to multiply then add integers\n(3*4)+5",
      "metadata": {
        "trusted": true
      },
      "outputs": [
        {
          "execution_count": 1,
          "output_type": "execute_result",
          "data": {
            "text/plain": "17"
          },
          "metadata": {}
        }
      ],
      "execution_count": 1
    },
    {
      "id": "45eb182a-3c7e-4bb8-8bad-96432bcf17ae",
      "cell_type": "code",
      "source": "# This will convert 200 minutes to hours by dividing by 60\n200 / 60",
      "metadata": {
        "trusted": true
      },
      "outputs": [
        {
          "execution_count": 2,
          "output_type": "execute_result",
          "data": {
            "text/plain": "3.3333333333333335"
          },
          "metadata": {}
        }
      ],
      "execution_count": 2
    },
    {
      "id": "abcb5f77-34a6-4e0a-84de-bca9a0e43183",
      "cell_type": "markdown",
      "source": "## Author  \nBASHAR MOHAMED",
      "metadata": {}
    }
  ]
}